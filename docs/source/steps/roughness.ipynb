{
 "cells": [
  {
   "cell_type": "markdown",
   "metadata": {},
   "source": [
    "# Roughness parameters"
   ]
  },
  {
   "cell_type": "code",
   "execution_count": 30,
   "metadata": {},
   "outputs": [],
   "source": [
    "import numpy as np\n",
    "import matplotlib.pyplot as plt\n",
    "import pandas as pd\n",
    "from pathlib import Path\n",
    "from platypus.core import *\n",
    "from platypus.types import *\n",
    "from platypus.algorithms import *\n",
    "import warnings\n",
    "warnings.filterwarnings('ignore')"
   ]
  },
  {
   "cell_type": "markdown",
   "metadata": {},
   "source": [
    "This is a custom package specifically designed for this analysis. It contains various functions for reading and computing and plotting."
   ]
  },
  {
   "cell_type": "code",
   "execution_count": null,
   "metadata": {},
   "outputs": [],
   "source": [
    "from z0_util import cal_vap_sat, cal_dens_dry, cal_dens_vap, cal_cpa, cal_dens_air, cal_Lob"
   ]
  },
  {
   "cell_type": "markdown",
   "metadata": {},
   "source": [
    "## Function to calculate Neutral condition"
   ]
  },
  {
   "cell_type": "code",
   "execution_count": 70,
   "metadata": {},
   "outputs": [],
   "source": [
    "def cal_neutral(df_val,z_meas,h_sfc):\n",
    "\n",
    "    # calculate Obukhov length\n",
    "    ser_Lob = df_val.apply(\n",
    "        lambda ser: cal_Lob(ser.H, ser.USTAR, ser.TA, ser.RH, ser.PA * 10), axis=1)\n",
    "\n",
    "    # zero-plane displacement: estimated using rule f thumb `d=0.7*h_sfc`\n",
    "\n",
    "    z_d = 0.7 * h_sfc\n",
    "\n",
    "    if z_d >= z_meas:\n",
    "        print(\n",
    "            'vegetation height is greater than measuring height. Please fix this before continuing'\n",
    "        )\n",
    "\n",
    "    # calculate stability scale\n",
    "    ser_zL = (z_meas - z_d) / ser_Lob\n",
    "\n",
    "    # determine periods under quasi-neutral conditions\n",
    "    limit_neutral = 0.01\n",
    "    ind_neutral = ser_zL.between(-limit_neutral, limit_neutral)\n",
    "\n",
    "    ind_neutral=ind_neutral[ind_neutral==True]\n",
    "\n",
    "    df_sel = df_val.loc[ind_neutral.index, ['WS', 'USTAR']].dropna()\n",
    "    ser_ustar = df_sel.USTAR\n",
    "    ser_ws = df_sel.WS\n",
    "    \n",
    "    \n",
    "    return ser_ws,ser_ustar"
   ]
  },
  {
   "cell_type": "markdown",
   "metadata": {},
   "source": [
    "## Function to calculate z0 and d using MO optimization"
   ]
  },
  {
   "cell_type": "code",
   "execution_count": 75,
   "metadata": {},
   "outputs": [],
   "source": [
    "def optimize_MO(df_val,z_meas,h_sfc):\n",
    "    \n",
    "    \n",
    "    ser_ws,ser_ustar=cal_neutral(df_val,z_meas,h_sfc)\n",
    "\n",
    "    def func_uz(params):\n",
    "        z0=params[0]\n",
    "        d=params[1]\n",
    "        z = z_meas\n",
    "        k = 0.4\n",
    "        uz = (ser_ustar / k) * np.log((z - d) / z0)\n",
    "\n",
    "        o1=abs(1-np.std(uz)/np.std(ser_ws))\n",
    "        o2=np.mean(abs(uz-ser_ws))/(np.mean(ser_ws))\n",
    "\n",
    "        return [o1,o2],[uz.min(),d-z0]\n",
    "\n",
    "    problem = Problem(2,2,2)\n",
    "    problem.types[0] = Real(0, 10)\n",
    "    problem.types[1] = Real(0, h_sfc)\n",
    "\n",
    "\n",
    "    problem.constraints[0] = \">=0\"\n",
    "    problem.constraints[1] = \">=0\"\n",
    "\n",
    "    problem.function = func_uz\n",
    "    random.seed(12345)\n",
    "    algorithm=NSGAIII(problem, divisions_outer=50)\n",
    "    algorithm.run(30000)\n",
    "\n",
    "    z0s=[]\n",
    "    ds=[]\n",
    "    os1=[]\n",
    "    os2=[]\n",
    "    for s in algorithm.result:\n",
    "        z0s.append(s.variables[0])\n",
    "        ds.append(s.variables[1])\n",
    "        os1.append(s.objectives[0])\n",
    "        os2.append(s.objectives[1])\n",
    "        \n",
    "    idx=os2.index(min(os2, key=lambda x:abs(x-np.mean(os2))))\n",
    "    z0=z0s[idx]\n",
    "    d=ds[idx]\n",
    "\n",
    "    return z0,d,ser_ws,ser_ustar"
   ]
  },
  {
   "cell_type": "markdown",
   "metadata": {},
   "source": [
    "## Loading data, cleaning and getting ready for optimization"
   ]
  },
  {
   "cell_type": "code",
   "execution_count": 72,
   "metadata": {},
   "outputs": [
    {
     "data": {
      "text/html": [
       "<div>\n",
       "<style scoped>\n",
       "    .dataframe tbody tr th:only-of-type {\n",
       "        vertical-align: middle;\n",
       "    }\n",
       "\n",
       "    .dataframe tbody tr th {\n",
       "        vertical-align: top;\n",
       "    }\n",
       "\n",
       "    .dataframe thead th {\n",
       "        text-align: right;\n",
       "    }\n",
       "</style>\n",
       "<table border=\"1\" class=\"dataframe\">\n",
       "  <thead>\n",
       "    <tr style=\"text-align: right;\">\n",
       "      <th></th>\n",
       "      <th>H</th>\n",
       "      <th>USTAR</th>\n",
       "      <th>TA</th>\n",
       "      <th>RH</th>\n",
       "      <th>PA</th>\n",
       "      <th>WS</th>\n",
       "    </tr>\n",
       "    <tr>\n",
       "      <th>time</th>\n",
       "      <th></th>\n",
       "      <th></th>\n",
       "      <th></th>\n",
       "      <th></th>\n",
       "      <th></th>\n",
       "      <th></th>\n",
       "    </tr>\n",
       "  </thead>\n",
       "  <tbody>\n",
       "    <tr>\n",
       "      <th>2010-01-01 00:00:00</th>\n",
       "      <td>21.873</td>\n",
       "      <td>0.739</td>\n",
       "      <td>-8.08</td>\n",
       "      <td>70.503</td>\n",
       "      <td>98.836</td>\n",
       "      <td>3.695</td>\n",
       "    </tr>\n",
       "    <tr>\n",
       "      <th>2010-01-01 01:00:00</th>\n",
       "      <td>41.819</td>\n",
       "      <td>0.855</td>\n",
       "      <td>-9.17</td>\n",
       "      <td>72.757</td>\n",
       "      <td>98.880</td>\n",
       "      <td>3.928</td>\n",
       "    </tr>\n",
       "    <tr>\n",
       "      <th>2010-01-01 02:00:00</th>\n",
       "      <td>-6.078</td>\n",
       "      <td>0.699</td>\n",
       "      <td>-9.63</td>\n",
       "      <td>72.611</td>\n",
       "      <td>98.910</td>\n",
       "      <td>3.088</td>\n",
       "    </tr>\n",
       "    <tr>\n",
       "      <th>2010-01-01 03:00:00</th>\n",
       "      <td>-16.788</td>\n",
       "      <td>0.581</td>\n",
       "      <td>-10.03</td>\n",
       "      <td>73.868</td>\n",
       "      <td>98.970</td>\n",
       "      <td>3.623</td>\n",
       "    </tr>\n",
       "    <tr>\n",
       "      <th>2010-01-01 04:00:00</th>\n",
       "      <td>5.006</td>\n",
       "      <td>0.562</td>\n",
       "      <td>-10.36</td>\n",
       "      <td>74.242</td>\n",
       "      <td>99.030</td>\n",
       "      <td>3.474</td>\n",
       "    </tr>\n",
       "  </tbody>\n",
       "</table>\n",
       "</div>"
      ],
      "text/plain": [
       "                          H  USTAR     TA      RH      PA     WS\n",
       "time                                                            \n",
       "2010-01-01 00:00:00  21.873  0.739  -8.08  70.503  98.836  3.695\n",
       "2010-01-01 01:00:00  41.819  0.855  -9.17  72.757  98.880  3.928\n",
       "2010-01-01 02:00:00  -6.078  0.699  -9.63  72.611  98.910  3.088\n",
       "2010-01-01 03:00:00 -16.788  0.581 -10.03  73.868  98.970  3.623\n",
       "2010-01-01 04:00:00   5.006  0.562 -10.36  74.242  99.030  3.474"
      ]
     },
     "execution_count": 72,
     "metadata": {},
     "output_type": "execute_result"
    }
   ],
   "source": [
    "name_of_site='US-MMS'\n",
    "years=[2010,2012,2016]\n",
    "\n",
    "\n",
    "df_attr=pd.read_csv('all_attrs.csv')\n",
    "z_meas=df_attr[df_attr.site==name_of_site].meas.values[0]\n",
    "h_sfc=df_zmeas=df_attr[df_attr.site==name_of_site].height.values[0]\n",
    "folder='data/data_csv_zip_clean_roughness/'\n",
    "site_file = folder+'/'+name_of_site + '_clean.csv.gz'\n",
    "df_data = pd.read_csv(site_file, index_col='time', parse_dates=['time'])\n",
    "# Rain\n",
    "bb=pd.DataFrame(~np.isin(df_data.index.date,df_data[df_data.P!=0].index.date))\n",
    "bb.index=df_data.index\n",
    "df_data=df_data[bb.values]\n",
    "\n",
    "\n",
    "df_data=df_data[(df_data['WS']!=0)]\n",
    "\n",
    "df_years=df_data.loc[f'{years[0]}']\n",
    "for i in years[1:]:\n",
    "    df_years=df_years.append(df_data.loc[f'{i}'])\n",
    "\n",
    "df_val = df_years.loc[:, ['H', 'USTAR', 'TA', 'RH', 'PA', 'WS']].dropna()\n",
    "df_val.head()"
   ]
  },
  {
   "cell_type": "markdown",
   "metadata": {},
   "source": [
    "## Calculating z0 and d"
   ]
  },
  {
   "cell_type": "code",
   "execution_count": 76,
   "metadata": {},
   "outputs": [],
   "source": [
    "z0,d,ser_ws,ser_ustar=optimize_MO(df_val,z_meas,h_sfc)"
   ]
  },
  {
   "cell_type": "markdown",
   "metadata": {},
   "source": [
    "## Calculating model wind speed using logarithmic law"
   ]
  },
  {
   "cell_type": "code",
   "execution_count": 77,
   "metadata": {},
   "outputs": [],
   "source": [
    "def uz(z0,d,ser_ustar,z_meas):\n",
    "    z = z_meas\n",
    "    k = 0.4\n",
    "    uz = (ser_ustar / k) * np.log((z - d) / z0)\n",
    "    return uz\n",
    "\n",
    "ws_model=uz(z0,d,ser_ustar,z_meas)"
   ]
  },
  {
   "cell_type": "code",
   "execution_count": 87,
   "metadata": {},
   "outputs": [
    {
     "data": {
      "text/plain": [
       "(0.0, 10.0)"
      ]
     },
     "execution_count": 87,
     "metadata": {},
     "output_type": "execute_result"
    },
    {
     "data": {
      "image/png": "[encoded data removed]",
      "text/plain": [
       "<Figure size 432x288 with 1 Axes>"
      ]
     },
     "metadata": {
      "needs_background": "light"
     },
     "output_type": "display_data"
    }
   ],
   "source": [
    "plt.scatter(ser_ws,ws_model,color='k')\n",
    "plt.xlabel('WS-obs')\n",
    "plt.ylabel('WS-model')\n",
    "plt.title(f'z0={np.round(z0,2)} & d={np.round(d,2)}')\n",
    "plt.plot([0,10],[0,10],color='r',linestyle='--')\n",
    "plt.ylim([0,10])\n",
    "plt.xlim([0,10])"
   ]
  }
 ],
 "metadata": {
  "kernelspec": {
   "display_name": "Python 3",
   "language": "python",
   "name": "python3"
  },
  "language_info": {
   "codemirror_mode": {
    "name": "ipython",
    "version": 3
   },
   "file_extension": ".py",
   "mimetype": "text/x-python",
   "name": "python",
   "nbconvert_exporter": "python",
   "pygments_lexer": "ipython3",
   "version": "3.7.6"
  },
  "toc": {
   "base_numbering": 1,
   "nav_menu": {},
   "number_sections": true,
   "sideBar": true,
   "skip_h1_title": false,
   "title_cell": "Table of Contents",
   "title_sidebar": "Contents",
   "toc_cell": false,
   "toc_position": {},
   "toc_section_display": true,
   "toc_window_display": false
  }
 },
 "nbformat": 4,
 "nbformat_minor": 2
}
